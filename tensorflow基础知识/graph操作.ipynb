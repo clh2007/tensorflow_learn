{
 "cells": [
  {
   "cell_type": "code",
   "execution_count": 1,
   "metadata": {
    "collapsed": true
   },
   "outputs": [],
   "source": [
    "import tensorflow as tf \n",
    "import numpy as np "
   ]
  },
  {
   "cell_type": "code",
   "execution_count": 4,
   "metadata": {
    "collapsed": false
   },
   "outputs": [
    {
     "name": "stdout",
     "output_type": "stream",
     "text": [
      "4.0\n",
      "True\n",
      "<tensorflow.python.framework.ops.Graph object at 0x000000000D3456D8>\n",
      "<tensorflow.python.framework.ops.Graph object at 0x000000000D3456D8>\n"
     ]
    }
   ],
   "source": [
    "#tf.Graph()函数作用\n",
    "#1、通过tensorboard用图形化界面展示出来流程结构\n",
    "#2、整合一段代码为一个整体存在于一个图中\n",
    "\n",
    "c = tf.constant(4,dtype=tf.float32) \n",
    "sess = tf.Session() \n",
    "sess.run(tf.global_variables_initializer())\n",
    "c_out = sess.run(c)\n",
    "print(c_out)\n",
    "print(c.graph ==tf.get_default_graph())\n",
    "print(c.graph)\n",
    "print(tf.get_default_graph())"
   ]
  },
  {
   "cell_type": "code",
   "execution_count": 5,
   "metadata": {
    "collapsed": false
   },
   "outputs": [
    {
     "name": "stdout",
     "output_type": "stream",
     "text": [
      "4.0\n",
      "<tensorflow.python.framework.ops.Graph object at 0x000000000DD64898>\n",
      "<tensorflow.python.framework.ops.Graph object at 0x000000000D3456D8>\n"
     ]
    }
   ],
   "source": [
    "import tensorflow as tf \n",
    "\n",
    "g = tf.Graph() \n",
    "with g.as_default():\n",
    "    c = tf.constant(4.0)\n",
    "    \n",
    "sess = tf.Session(graph=g)\n",
    "c_out = sess.run(c)\n",
    "print(c_out)\n",
    "print(g)\n",
    "print(tf.get_default_graph())\n"
   ]
  },
  {
   "cell_type": "code",
   "execution_count": 9,
   "metadata": {
    "collapsed": false
   },
   "outputs": [
    {
     "name": "stdout",
     "output_type": "stream",
     "text": [
      "4.0\n",
      "20.0\n"
     ]
    },
    {
     "data": {
      "text/plain": [
       "'.\\\\graph.pb'"
      ]
     },
     "execution_count": 9,
     "metadata": {},
     "output_type": "execute_result"
    }
   ],
   "source": [
    "#（1）保存\n",
    "import tensorflow as tf \n",
    "\n",
    "g1 = tf.Graph() \n",
    "with g1.as_default():\n",
    "    #需要加上名称，在读取pb文件的时候，是通过name和下标来取得对应的tensor\n",
    "    c1 = tf.constant(4.0,name='c1')\n",
    "\n",
    "g2 = tf.Graph() \n",
    "with g2.as_default():\n",
    "    c2 = tf.constant(20.0)\n",
    "\n",
    "with tf.Session(graph=g1) as sess1:\n",
    "    print(sess1.run(c1))\n",
    "\n",
    "with tf.Session(graph=g2) as sess2:\n",
    "    print(sess2.run(c2))\n",
    "\n",
    "#g1的图定义，包含pb的path，pb文件名，是否是文本默认False\n",
    "tf.train.write_graph(g1.as_graph_def(),'.','graph.pb',False)"
   ]
  },
  {
   "cell_type": "code",
   "execution_count": 10,
   "metadata": {
    "collapsed": false
   },
   "outputs": [
    {
     "name": "stdout",
     "output_type": "stream",
     "text": [
      "4.0\n"
     ]
    }
   ],
   "source": [
    "#（2）从pb文件中调用\n",
    "import tensorflow as tf \n",
    "from tensorflow.python.platform import gfile \n",
    "\n",
    "with gfile.FastGFile('./graph.pb','rb') as f:\n",
    "    graph_def = tf.GraphDef() \n",
    "    graph_def.ParseFromString(f.read())\n",
    "    tf.import_graph_def(graph_def,name='')\n",
    "    \n",
    "sess = tf.Session() \n",
    "c1_tensor = sess.graph.get_tensor_by_name('c1:0')\n",
    "c1 = sess.run(c1_tensor)\n",
    "print(c1)"
   ]
  },
  {
   "cell_type": "code",
   "execution_count": 11,
   "metadata": {
    "collapsed": false
   },
   "outputs": [
    {
     "name": "stdout",
     "output_type": "stream",
     "text": [
      "24.0\n"
     ]
    }
   ],
   "source": [
    "#穿插调用\n",
    "import tensorflow as tf \n",
    "\n",
    "g1 = tf.Graph() \n",
    "with g1.as_default():\n",
    "    #声明的变量有名称是一个好的习惯，方便以后使用\n",
    "    c1 = tf.constant(4.0,name='c1')\n",
    "\n",
    "g2 = tf.Graph() \n",
    "with g2.as_default():\n",
    "    c2 = tf.constant(20.0,name='c2')\n",
    "    \n",
    "with tf.Session(graph=g2) as sess1:\n",
    "    #通过名称和下标来得到相应的值\n",
    "    c1_list = tf.import_graph_def(g1.as_graph_def(),return_elements=[\"c1:0\"], name = '')\n",
    "    print(sess1.run(c1_list[0] +c2))"
   ]
  },
  {
   "cell_type": "code",
   "execution_count": 14,
   "metadata": {
    "collapsed": false
   },
   "outputs": [
    {
     "name": "stdout",
     "output_type": "stream",
     "text": [
      "<tensorflow.python.framework.ops.Graph object at 0x000000000D3456D8>\n",
      "<tensorflow.python.framework.ops.Graph object at 0x000000000D3456D8>\n"
     ]
    }
   ],
   "source": [
    "import tensorflow as tf \n",
    "import numpy  as np \n",
    "\n",
    "ab = tf.constant(value=1.0)\n",
    "print(ab.graph)\n",
    "print(tf.get_default_graph())"
   ]
  },
  {
   "cell_type": "code",
   "execution_count": 17,
   "metadata": {
    "collapsed": false
   },
   "outputs": [
    {
     "name": "stdout",
     "output_type": "stream",
     "text": [
      "<tensorflow.python.framework.ops.Graph object at 0x000000000D3456D8>\n",
      "<tensorflow.python.framework.ops.Graph object at 0x000000000D3456D8>\n",
      "gg: <tensorflow.python.framework.ops.Graph object at 0x000000000DD7F6D8>\n",
      "<tensorflow.python.framework.ops.Graph object at 0x000000000DD7F6D8>\n",
      "gg2: <tensorflow.python.framework.ops.Graph object at 0x000000000DD7FBA8>\n",
      "<tensorflow.python.framework.ops.Graph object at 0x000000000DD7FBA8>\n",
      "<tensorflow.python.framework.ops.Graph object at 0x000000000D3456D8>\n"
     ]
    }
   ],
   "source": [
    "import tensorflow as tf \n",
    "import numpy as np \n",
    "\n",
    "cc = tf.constant(value=1)\n",
    "print(cc.graph)\n",
    "print(tf.get_default_graph())\n",
    "\n",
    "gg = tf.Graph() \n",
    "print('gg:',gg)\n",
    "with gg.as_default():\n",
    "    d = tf.constant(value=2)\n",
    "    print(d.graph)\n",
    "    \n",
    "gg2 = tf.Graph() \n",
    "print('gg2:',gg2)\n",
    "with gg2.as_default() :\n",
    "    e = tf.constant(value=15)\n",
    "    print(e.graph)\n",
    "e = tf.constant(value=15)\n",
    "print(e.graph)"
   ]
  },
  {
   "cell_type": "code",
   "execution_count": null,
   "metadata": {
    "collapsed": true
   },
   "outputs": [],
   "source": []
  }
 ],
 "metadata": {
  "kernelspec": {
   "display_name": "Python [conda root]",
   "language": "python",
   "name": "conda-root-py"
  },
  "language_info": {
   "codemirror_mode": {
    "name": "ipython",
    "version": 3
   },
   "file_extension": ".py",
   "mimetype": "text/x-python",
   "name": "python",
   "nbconvert_exporter": "python",
   "pygments_lexer": "ipython3",
   "version": "3.5.2"
  }
 },
 "nbformat": 4,
 "nbformat_minor": 1
}
