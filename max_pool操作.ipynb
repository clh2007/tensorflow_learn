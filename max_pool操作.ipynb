{
 "cells": [
  {
   "cell_type": "code",
   "execution_count": 1,
   "metadata": {
    "collapsed": true
   },
   "outputs": [],
   "source": [
    "import tensorflow as tf  \n",
    "  \n",
    "a=tf.constant([  \n",
    "        [[1.0,2.0,3.0,4.0],  \n",
    "        [5.0,6.0,7.0,8.0],  \n",
    "        [8.0,7.0,6.0,5.0],  \n",
    "        [4.0,3.0,2.0,1.0]],  \n",
    "        [[4.0,3.0,2.0,1.0],  \n",
    "         [8.0,7.0,6.0,5.0],  \n",
    "         [1.0,2.0,3.0,4.0],  \n",
    "         [5.0,6.0,7.0,8.0]]  \n",
    "    ])  \n",
    "  "
   ]
  },
  {
   "cell_type": "code",
   "execution_count": 14,
   "metadata": {
    "collapsed": false
   },
   "outputs": [
    {
     "name": "stdout",
     "output_type": "stream",
     "text": [
      "image:\n",
      "[[[[ 1.  2.]\n",
      "   [ 3.  4.]\n",
      "   [ 5.  6.]\n",
      "   [ 7.  8.]]\n",
      "\n",
      "  [[ 8.  7.]\n",
      "   [ 6.  5.]\n",
      "   [ 4.  3.]\n",
      "   [ 2.  1.]]\n",
      "\n",
      "  [[ 4.  3.]\n",
      "   [ 2.  1.]\n",
      "   [ 8.  7.]\n",
      "   [ 6.  5.]]\n",
      "\n",
      "  [[ 1.  2.]\n",
      "   [ 3.  4.]\n",
      "   [ 5.  6.]\n",
      "   [ 7.  8.]]]]\n",
      "result:\n",
      "[[[[ 8.  7.]\n",
      "   [ 6.  6.]\n",
      "   [ 7.  8.]]\n",
      "\n",
      "  [[ 8.  7.]\n",
      "   [ 8.  7.]\n",
      "   [ 8.  7.]]\n",
      "\n",
      "  [[ 4.  4.]\n",
      "   [ 8.  7.]\n",
      "   [ 8.  8.]]]]\n"
     ]
    }
   ],
   "source": [
    "#a  =tf.reshape(a,[1,4,4,2])\n",
    "\n",
    "pooling = tf.nn.max_pool(a,[1,2,2,1],[1,1,1,1],padding='VALID')\n",
    "with tf.Session() as sess:\n",
    "    print('image:')\n",
    "    image1 = sess.run(a)\n",
    "    print(image)\n",
    "    print('result:')\n",
    "    result1 = sess.run(pooling)\n",
    "    print(result1)"
   ]
  },
  {
   "cell_type": "code",
   "execution_count": 16,
   "metadata": {
    "collapsed": false
   },
   "outputs": [
    {
     "data": {
      "text/plain": [
       "(1, 3, 3, 2)"
      ]
     },
     "execution_count": 16,
     "metadata": {},
     "output_type": "execute_result"
    }
   ],
   "source": [
    "result1.shape"
   ]
  },
  {
   "cell_type": "code",
   "execution_count": 17,
   "metadata": {
    "collapsed": false
   },
   "outputs": [
    {
     "data": {
      "text/plain": [
       "(1, 4, 4, 2)"
      ]
     },
     "execution_count": 17,
     "metadata": {},
     "output_type": "execute_result"
    }
   ],
   "source": [
    "image1.shape"
   ]
  },
  {
   "cell_type": "code",
   "execution_count": 11,
   "metadata": {
    "collapsed": false
   },
   "outputs": [
    {
     "name": "stdout",
     "output_type": "stream",
     "text": [
      "image:\n",
      "[[[[ 1.  2.]\n",
      "   [ 3.  4.]\n",
      "   [ 5.  6.]\n",
      "   [ 7.  8.]]\n",
      "\n",
      "  [[ 8.  7.]\n",
      "   [ 6.  5.]\n",
      "   [ 4.  3.]\n",
      "   [ 2.  1.]]\n",
      "\n",
      "  [[ 4.  3.]\n",
      "   [ 2.  1.]\n",
      "   [ 8.  7.]\n",
      "   [ 6.  5.]]\n",
      "\n",
      "  [[ 1.  2.]\n",
      "   [ 3.  4.]\n",
      "   [ 5.  6.]\n",
      "   [ 7.  8.]]]]\n",
      "result:\n",
      "[[[[ 8.  7.]\n",
      "   [ 6.  6.]\n",
      "   [ 7.  8.]]\n",
      "\n",
      "  [[ 8.  7.]\n",
      "   [ 8.  7.]\n",
      "   [ 8.  7.]]\n",
      "\n",
      "  [[ 4.  4.]\n",
      "   [ 8.  7.]\n",
      "   [ 8.  8.]]]]\n"
     ]
    }
   ],
   "source": [
    "a  =tf.reshape(a,[1,4,4,2])\n",
    "\n",
    "pooling = tf.nn.max_pool(a,[1,2,2,1],[1,1,1,1],padding='VALID')\n",
    "with tf.Session() as sess:\n",
    "    print('image:')\n",
    "    image = sess.run(a)\n",
    "    print(image)\n",
    "    print('result:')\n",
    "    result = sess.run(pooling)\n",
    "    print(result)"
   ]
  },
  {
   "cell_type": "code",
   "execution_count": 12,
   "metadata": {
    "collapsed": false
   },
   "outputs": [
    {
     "data": {
      "text/plain": [
       "array([[[[ True,  True],\n",
       "         [ True,  True],\n",
       "         [ True,  True]],\n",
       "\n",
       "        [[ True,  True],\n",
       "         [ True,  True],\n",
       "         [ True,  True]],\n",
       "\n",
       "        [[ True,  True],\n",
       "         [ True,  True],\n",
       "         [ True,  True]]]], dtype=bool)"
      ]
     },
     "execution_count": 12,
     "metadata": {},
     "output_type": "execute_result"
    }
   ],
   "source": [
    "result ==result1 "
   ]
  },
  {
   "cell_type": "code",
   "execution_count": 13,
   "metadata": {
    "collapsed": false
   },
   "outputs": [
    {
     "data": {
      "text/plain": [
       "(1, 4, 4, 2)"
      ]
     },
     "execution_count": 13,
     "metadata": {},
     "output_type": "execute_result"
    }
   ],
   "source": [
    "image.shape"
   ]
  },
  {
   "cell_type": "code",
   "execution_count": null,
   "metadata": {
    "collapsed": true
   },
   "outputs": [],
   "source": []
  }
 ],
 "metadata": {
  "anaconda-cloud": {},
  "kernelspec": {
   "display_name": "Python [conda root]",
   "language": "python",
   "name": "conda-root-py"
  },
  "language_info": {
   "codemirror_mode": {
    "name": "ipython",
    "version": 3
   },
   "file_extension": ".py",
   "mimetype": "text/x-python",
   "name": "python",
   "nbconvert_exporter": "python",
   "pygments_lexer": "ipython3",
   "version": "3.5.2"
  }
 },
 "nbformat": 4,
 "nbformat_minor": 1
}
