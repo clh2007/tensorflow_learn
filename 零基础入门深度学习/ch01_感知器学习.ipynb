{
 "cells": [
  {
   "cell_type": "code",
   "execution_count": 1,
   "metadata": {
    "collapsed": true
   },
   "outputs": [],
   "source": [
    "from functools import reduce"
   ]
  },
  {
   "cell_type": "code",
   "execution_count": 2,
   "metadata": {
    "collapsed": true
   },
   "outputs": [],
   "source": [
    "\n",
    "#感知机实现\n",
    "class Perceptron(object):\n",
    "\n",
    "    def __init__(self,input_num,activator):\n",
    "        '''\n",
    "        初始化感知器，设置输入参数的个数，以及激活函数\n",
    "        激活函数的类型为double\n",
    "        '''\n",
    "        self.activator = activator #激活函数\n",
    "        self.weights =[1 for _ in range(input_num)] #权重向量初始化为0 \n",
    "        self.bias = 0.01 #偏置项初始化为0 \n",
    "    \n",
    "    \n",
    "        \n",
    "    def __str__(self):\n",
    "        '''\n",
    "        打印学习到的权重、偏置项\n",
    "        '''\n",
    "        return 'weights\\t:%s\\nbias\\t:%f\\n' %(self.weights,self.bias)\n",
    "    \n",
    "    def predict(self,input_vec):\n",
    "        '''\n",
    "        输入向量，输出感知器的计算结果\n",
    "        '''\n",
    "        #把input_vec[x1,x2,x3...]和weights[w1,w2,w3...]打包在一起\n",
    "        #变成[(x1,w1),(x2,w2),(x3,w3)...]\n",
    "        #然后利用map函数计算[x1*w1,x2*w2,x3*w3]\n",
    "        #最后利用reduce求和\n",
    "        return self.activator(\n",
    "            reduce(lambda a,b:a+b,\n",
    "                  map(lambda xw:xw[0] * xw[1],\n",
    "                     zip(input_vec,self.weights))\n",
    "                  ,0.0) + self.bias \n",
    "        )\n",
    "    \n",
    "    def train(self,input_vecs,labels,iteration,rate):\n",
    "        '''\n",
    "        输入训练数据，一组向量，与每个向量对应的label，以及训练轮数，学习率\n",
    "        '''\n",
    "        for i in range(iteration):\n",
    "            self._one_iteration(input_vecs,labels,rate)\n",
    "            \n",
    "    def _one_iteration(self,input_vecs,labels,rate):\n",
    "        '''\n",
    "        一次迭代，把所有的训练数据过一遍\n",
    "        '''\n",
    "        #把输入和输出打包在一起，成为样本的列表[(input_vec,label),...]\n",
    "        #而每个训练样本是(input_vec,label)\n",
    "        samples = zip(input_vecs,labels)\n",
    "        #对每个样本，按照感知器规则更新权重\n",
    "        for (input_vec,label) in samples:\n",
    "            #计算感知器在当前权重下的输出\n",
    "            output = self.predict(input_vec)\n",
    "            #更新权重\n",
    "            self._update_weights(input_vec,output,label,rate)\n",
    "            \n",
    "    def _update_weights(self,input_vec,output,label,rate):\n",
    "        '''\n",
    "        按照感知器规则更新权重\n",
    "        '''\n",
    "        #把input_vec[x1,x2,x3,...]和weights[w1,w2,w3,...]打包在一起\n",
    "        #变成[(x1,w1),(x2,w2),(x3,w3)]\n",
    "        #然后利用感知器规则更新权重\n",
    "        delta = label - output \n",
    "        self.weights = list(map(\n",
    "        lambda xw:xw[1] + rate *delta *xw[0],\n",
    "        zip(input_vec,self.weights)\n",
    "        ))\n",
    "        #更新bias\n",
    "        self.bias += rate*delta\n",
    "        \n",
    "        "
   ]
  },
  {
   "cell_type": "code",
   "execution_count": 3,
   "metadata": {
    "collapsed": false
   },
   "outputs": [
    {
     "name": "stdout",
     "output_type": "stream",
     "text": [
      "weights\t:[0.6000000000000001, 0.7000000000000001]\n",
      "bias\t:-0.790000\n",
      "\n",
      "1 and 1 = 1\n",
      "0 and 0 = 0\n",
      "1 and 0 = 0\n",
      "0 and 1 = 0\n"
     ]
    }
   ],
   "source": [
    "def f(x):\n",
    "    '''\n",
    "    定义激活函数f\n",
    "    '''\n",
    "    return 1 if x>0 else 0 \n",
    "\n",
    "def get_training_dataset():\n",
    "    '''\n",
    "    基于and真值表构建训练数据\n",
    "    '''\n",
    "    #构建训练数据\n",
    "    #输入向量列表\n",
    "    input_vecs = [[1,1],[0,0],[1,0],[0,1]]\n",
    "    #期望的输出列表，主要要与输入一一对应\n",
    "    labels =[1,0,0,0]\n",
    "    return input_vecs,labels \n",
    "\n",
    "def train_and_perceptron():\n",
    "    '''\n",
    "    使用and真值表训练感知器\n",
    "    '''\n",
    "    #创建感知器，输入参数个数为2，激活函数为f\n",
    "    p = Perceptron(2,f)\n",
    "    #训练，迭代10轮，学习速率为0.1\n",
    "    input_vecs,labels = get_training_dataset() \n",
    "    p.train(input_vecs,labels,10,0.1)\n",
    "    #返回训练好的感知器\n",
    "    return p \n",
    "\n",
    "if __name__ =='__main__':\n",
    "    #训练and感知器\n",
    "    and_perception = train_and_perceptron() \n",
    "    #打印训练获得的权重\n",
    "    print(and_perception)\n",
    "    \n",
    "    #测试\n",
    "    print('1 and 1 = %d' % and_perception.predict([1, 1]))\n",
    "    print('0 and 0 = %d' % and_perception.predict([0, 0]))\n",
    "    print('1 and 0 = %d' % and_perception.predict([1, 0]))\n",
    "    print('0 and 1 = %d' % and_perception.predict([0, 1]))"
   ]
  },
  {
   "cell_type": "code",
   "execution_count": null,
   "metadata": {
    "collapsed": true
   },
   "outputs": [],
   "source": []
  }
 ],
 "metadata": {
  "anaconda-cloud": {},
  "kernelspec": {
   "display_name": "Python [conda root]",
   "language": "python",
   "name": "conda-root-py"
  },
  "language_info": {
   "codemirror_mode": {
    "name": "ipython",
    "version": 3
   },
   "file_extension": ".py",
   "mimetype": "text/x-python",
   "name": "python",
   "nbconvert_exporter": "python",
   "pygments_lexer": "ipython3",
   "version": "3.5.2"
  }
 },
 "nbformat": 4,
 "nbformat_minor": 1
}
