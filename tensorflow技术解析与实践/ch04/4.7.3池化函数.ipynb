{
 "cells": [
  {
   "cell_type": "code",
   "execution_count": 1,
   "metadata": {
    "collapsed": true
   },
   "outputs": [],
   "source": [
    "import numpy as np \n",
    "import tensorflow as tf \n",
    "\n",
    "#池化操作是利用一个矩阵窗口在张量上进行扫描，将每个矩阵窗口中的值通过取最大值或平均值来减少元素个数。\n",
    "#每个池化操作的矩阵窗口大小是由ksize指定的，并且根据步长strides决定移动步长\n",
    "#tf.nn.max_pool(value,ksize,strides,padding,data_format='NHWC',name=None)\n",
    "#value 一个四维的张量\n",
    "#ksize:池化窗口的大小\n",
    "#strides:步长\n",
    "#padding：SAME和VAILD\n"
   ]
  },
  {
   "cell_type": "code",
   "execution_count": 2,
   "metadata": {},
   "outputs": [
    {
     "data": {
      "text/plain": [
       "<tf.Tensor 'MaxPool:0' shape=(10, 6, 6, 10) dtype=float32>"
      ]
     },
     "execution_count": 2,
     "metadata": {},
     "output_type": "execute_result"
    }
   ],
   "source": [
    "input_data = tf.Variable(np.random.randn(10,6,6,3),dtype=np.float32)\n",
    "filter_data = tf.Variable(np.random.randn(2,2,3,10),dtype=np.float32)\n",
    "y = tf.nn.conv2d(input_data,filter_data,strides=[1,1,1,1],padding='SAME')\n",
    "output = tf.nn.max_pool(value=y,ksize=[1,2,2,1],strides=[1,1,1,1],padding='SAME')\n",
    "output"
   ]
  },
  {
   "cell_type": "code",
   "execution_count": null,
   "metadata": {
    "collapsed": true
   },
   "outputs": [],
   "source": []
  }
 ],
 "metadata": {
  "kernelspec": {
   "display_name": "Python 3",
   "language": "python",
   "name": "python3"
  },
  "language_info": {
   "codemirror_mode": {
    "name": "ipython",
    "version": 3
   },
   "file_extension": ".py",
   "mimetype": "text/x-python",
   "name": "python",
   "nbconvert_exporter": "python",
   "pygments_lexer": "ipython3",
   "version": "3.6.3"
  }
 },
 "nbformat": 4,
 "nbformat_minor": 2
}
