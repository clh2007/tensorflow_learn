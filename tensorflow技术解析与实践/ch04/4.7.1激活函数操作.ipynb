{
 "cells": [
  {
   "cell_type": "code",
   "execution_count": 10,
   "metadata": {
    "collapsed": true
   },
   "outputs": [],
   "source": [
    "import tensorflow as tf \n",
    "import numpy as np \n"
   ]
  },
  {
   "cell_type": "code",
   "execution_count": 11,
   "metadata": {},
   "outputs": [
    {
     "name": "stdout",
     "output_type": "stream",
     "text": [
      "[[ 0.7310586   0.88079703]\n",
      " [ 0.7310586   0.88079703]\n",
      " [ 0.7310586   0.88079703]]\n"
     ]
    }
   ],
   "source": [
    "a = tf.constant([[1,2],[1,2],[1,2]],dtype=tf.float32)\n",
    "sess = tf.Session() \n",
    "result = sess.run(tf.sigmoid(a))\n",
    "print(result)\n",
    "#sigmoid函数：S(x) = 1/(1+e-x)\n",
    "#sigmoid函数的优点在于，它的输出映射在(0,1)内，单调连续，非常适用输出层\n",
    "#缺点，因为软包和性，一旦输入落入饱和区，f'(x)就会变得接近于0，很容易产生梯度消失\n",
    "\n"
   ]
  },
  {
   "cell_type": "code",
   "execution_count": 13,
   "metadata": {},
   "outputs": [
    {
     "name": "stdout",
     "output_type": "stream",
     "text": [
      "[ 0.  2.]\n"
     ]
    }
   ],
   "source": [
    "a = tf.constant([-1,2],dtype=tf.float32)\n",
    "with tf.Session() as sess:\n",
    "    b = tf.nn.relu(a)\n",
    "    print(sess.run(b))\n",
    "\n",
    "#relu定义为f(x)=max(x,0)\n",
    "#优点：由于x>0时导数为1，所以relu能够在x>0时保持梯度不衰减，从而解决梯度消失问题，还能够更快收敛\n",
    "#缺点：x<0时硬饱和。随着训练的进行，部分输入会落到硬饱和区，导致对应的权重无法更新"
   ]
  },
  {
   "cell_type": "code",
   "execution_count": 9,
   "metadata": {},
   "outputs": [
    {
     "data": {
      "text/plain": [
       "array([[ 0.7310586 ,  0.88079703],\n",
       "       [ 0.7310586 ,  0.88079703],\n",
       "       [ 0.7310586 ,  0.88079703]], dtype=float32)"
      ]
     },
     "execution_count": 9,
     "metadata": {},
     "output_type": "execute_result"
    }
   ],
   "source": [
    "result"
   ]
  },
  {
   "cell_type": "code",
   "execution_count": 25,
   "metadata": {},
   "outputs": [
    {
     "name": "stdout",
     "output_type": "stream",
     "text": [
      "[[-0.  4.  6.  8.]]\n",
      "[[-0.  0.  0.  0.]]\n"
     ]
    }
   ],
   "source": [
    "a = tf.constant([[-1,2,3,4]],dtype=tf.float32)\n",
    "with tf.Session() as sess:\n",
    "    b = tf.nn.dropout(a,0.5,noise_shape=[1,4])\n",
    "    print(sess.run(b))\n",
    "    b = tf.nn.dropout(a,0.5,noise_shape=[1,1])\n",
    "    print(sess.run(b))\n",
    "\n",
    "#dropout函数，一个神经元将以概率keep_prob决定是否被抑制。如果被抑制，该神经元的输出就是0；\n",
    "#如果不被抑制，那么该神经元的输出值将被放大到原来的1/keep_prob倍\n"
   ]
  },
  {
   "cell_type": "code",
   "execution_count": null,
   "metadata": {
    "collapsed": true
   },
   "outputs": [],
   "source": []
  },
  {
   "cell_type": "code",
   "execution_count": null,
   "metadata": {
    "collapsed": true
   },
   "outputs": [],
   "source": []
  },
  {
   "cell_type": "code",
   "execution_count": null,
   "metadata": {
    "collapsed": true
   },
   "outputs": [],
   "source": []
  },
  {
   "cell_type": "code",
   "execution_count": null,
   "metadata": {
    "collapsed": true
   },
   "outputs": [],
   "source": []
  }
 ],
 "metadata": {
  "kernelspec": {
   "display_name": "Python 3",
   "language": "python",
   "name": "python3"
  },
  "language_info": {
   "codemirror_mode": {
    "name": "ipython",
    "version": 3
   },
   "file_extension": ".py",
   "mimetype": "text/x-python",
   "name": "python",
   "nbconvert_exporter": "python",
   "pygments_lexer": "ipython3",
   "version": "3.6.3"
  }
 },
 "nbformat": 4,
 "nbformat_minor": 2
}
