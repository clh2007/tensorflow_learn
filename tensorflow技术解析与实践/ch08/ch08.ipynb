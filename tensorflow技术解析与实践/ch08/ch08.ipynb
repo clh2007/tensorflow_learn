{
 "cells": [
  {
   "cell_type": "code",
   "execution_count": 5,
   "metadata": {},
   "outputs": [],
   "source": [
    "import tensorflow as tf \n",
    "import numpy as np \n",
    "#构造满足一元二次方程的函数,为了使点更密一些，我们构建了300个点，分布在-1到1区间，\n",
    "#直接采用np生成等差数列的方法，并将结果为300个点的一维数组，转换为300*1的二维数组\n",
    "x_data = np.linspace(-1,1,300)[:,np.newaxis]\n",
    "#加入一些噪声点，使它与x_data 的维度一致，并且拟合为均值为0，方程为0.05的正态分布\n",
    "noise = np.random.normal(0,0.05,x_data.shape) \n",
    "\n",
    "y_data = np.square(x_data)  - 0.5 + noise   # y = x*2 -0.5 + 噪声\n",
    "\n",
    "#x 和 y的占位符来作为将要输入神经网络的变量\n",
    "xs = tf.placeholder(tf.float32,[None,1])\n",
    "ys = tf.placeholder(tf.float32,[None,1])\n"
   ]
  },
  {
   "cell_type": "code",
   "execution_count": 8,
   "metadata": {
    "collapsed": true
   },
   "outputs": [],
   "source": [
    "#构建网络模型\n",
    "\n",
    "def add_layer(inputs,in_size,out_size,activation_function=None):\n",
    "    #构建权重：in_size * out_size 大小的权重\n",
    "    weights = tf.Variable(tf.random_normal([in_size,out_size]))\n",
    "    #构建偏置：1*out_size的矩阵\n",
    "    biases = tf.Variable(tf.zeros([out_size]))\n",
    "    #矩阵相乘\n",
    "    Wx_plus_b = tf.matmul(inputs,weights) + biases \n",
    "    \n",
    "    if activation_function is None:\n",
    "        outputs = Wx_plus_b\n",
    "    else:\n",
    "        outputs = activation_function(Wx_plus_b)\n",
    "    return outputs\n",
    "\n",
    "#构建隐藏层，假设隐藏层有20个神经元\n",
    "h1 = add_layer(xs,1,20,activation_function=tf.nn.relu)\n",
    "\n",
    "#构建输出层，假设输出层和输入层一样，有1个神经元\n",
    "prediction = add_layer(h1,20,1,activation_function=None)\n",
    "\n",
    "#构建损失函数:计算输出层的预测值和真实值之间的误差，对二者差的平方求和再去平均，得到损失函数\n",
    "#计算预测值和真实值间的误差\n",
    "loss = tf.reduce_mean(tf.reduce_sum(tf.square(ys - prediction),axis=1))\n",
    "train_step = tf.train.GradientDescentOptimizer(0.1).minimize(loss)\n",
    "\n"
   ]
  },
  {
   "cell_type": "code",
   "execution_count": 9,
   "metadata": {},
   "outputs": [
    {
     "name": "stdout",
     "output_type": "stream",
     "text": [
      "0.114858\n",
      "0.00659813\n",
      "0.00463862\n",
      "0.00387862\n",
      "0.0034222\n",
      "0.00316072\n",
      "0.00298512\n",
      "0.00285611\n",
      "0.00276293\n",
      "0.00269535\n",
      "0.00264472\n",
      "0.00260643\n",
      "0.00257788\n",
      "0.00255621\n",
      "0.00253673\n",
      "0.00251761\n",
      "0.00250219\n",
      "0.00248852\n",
      "0.00247854\n",
      "0.00246991\n"
     ]
    }
   ],
   "source": [
    "#训练模型\n",
    "init = tf.global_variables_initializer() \n",
    "sess = tf.Session()\n",
    "sess.run(init)\n",
    "\n",
    "for i in range(1000):#训练1000次\n",
    "    sess.run(train_step,feed_dict={xs:x_data,ys:y_data})\n",
    "    if i%50 ==0:#每50次打印出一次损失值\n",
    "        print(sess.run(loss,feed_dict={xs:x_data,ys:y_data}))\n",
    "    "
   ]
  },
  {
   "cell_type": "code",
   "execution_count": 10,
   "metadata": {},
   "outputs": [
    {
     "data": {
      "text/plain": [
       "'C:\\\\Users\\\\Admin'"
      ]
     },
     "execution_count": 10,
     "metadata": {},
     "output_type": "execute_result"
    }
   ],
   "source": [
    "pwd"
   ]
  },
  {
   "cell_type": "code",
   "execution_count": null,
   "metadata": {
    "collapsed": true
   },
   "outputs": [],
   "source": []
  }
 ],
 "metadata": {
  "kernelspec": {
   "display_name": "Python 3",
   "language": "python",
   "name": "python3"
  },
  "language_info": {
   "codemirror_mode": {
    "name": "ipython",
    "version": 3
   },
   "file_extension": ".py",
   "mimetype": "text/x-python",
   "name": "python",
   "nbconvert_exporter": "python",
   "pygments_lexer": "ipython3",
   "version": "3.6.3"
  }
 },
 "nbformat": 4,
 "nbformat_minor": 2
}
