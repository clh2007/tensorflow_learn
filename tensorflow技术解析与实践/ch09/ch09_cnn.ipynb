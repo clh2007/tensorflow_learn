{
 "cells": [
  {
   "cell_type": "code",
   "execution_count": 1,
   "metadata": {
    "collapsed": true
   },
   "outputs": [],
   "source": [
    "import tensorflow as tf \n",
    "import numpy as np \n",
    "from tensorflow.examples.tutorials.mnist import input_data "
   ]
  },
  {
   "cell_type": "code",
   "execution_count": 2,
   "metadata": {},
   "outputs": [
    {
     "name": "stdout",
     "output_type": "stream",
     "text": [
      "Extracting ../../data\\train-images-idx3-ubyte.gz\n",
      "Extracting ../../data\\train-labels-idx1-ubyte.gz\n",
      "Extracting ../../data\\t10k-images-idx3-ubyte.gz\n",
      "Extracting ../../data\\t10k-labels-idx1-ubyte.gz\n"
     ]
    }
   ],
   "source": [
    "#1、加载数据\n",
    "mnist = input_data.read_data_sets('../../data',one_hot=True)"
   ]
  },
  {
   "cell_type": "code",
   "execution_count": 10,
   "metadata": {},
   "outputs": [],
   "source": [
    "#2、构建模型\n",
    "#(1)定义数据并预处理数据\n",
    "trX,trY,teX,teY = mnist.train.images,mnist.train.labels,mnist.test.images,mnist.test.labels\n",
    "\n",
    "trX = trX.reshape(-1,28,28,1)\n",
    "teX = teX.reshape(-1,28,28,1)\n",
    "\n",
    "X = tf.placeholder(tf.float32,[None,28,28,1])\n",
    "Y = tf.placeholder(tf.float32,[None,10])\n",
    "\n",
    "#(2)初始化权重与定义网络结构\n",
    "def init_weights(shape):\n",
    "    return tf.Variable(tf.random_normal(shape,stddev=0.01))\n",
    "#权重初始化，卷积核的大小为3*3\n",
    "w = init_weights([3,3,1,32])     #patch为3*3，输入维度为1，输出维度为32\n",
    "w2 = init_weights([3,3,32,64])   #patch为3*3，输入维度为32，输出维度为64\n",
    "w3 = init_weights([3,3,64,128])  #patch为3*3，输入维度为63，输出维度为128\n",
    "w4 = init_weights([128*4*4,625]) #全连接层，输入维度为128*4*4，是上一层的输出数据由三维的转变成一维，输出维度为625\n",
    "w_0 = init_weights([625,10])     #输出层，输入维度为625，输出维度为10，代表10类(labels)\n",
    "\n",
    "#定义一个模型函数\n",
    "#神经网络模型的构建函数，传入以下参数\n",
    "#X：输入数据\n",
    "#w：每一层的权重\n",
    "#p_keep_conv,p_keep_hidden,dropout 要保留神经元比例\n",
    "\n",
    "def model(X,w,w2,w3,w4,w_0,p_keep_conv,p_keep_hidden):\n",
    "    #第一组卷积层及池化层，最后dropout一些神经元\n",
    "    l1a = tf.nn.relu(tf.nn.conv2d(X,w,strides=[1,1,1,1],padding='SAME'))  #l1a为：shape =(?,28,28,32)\n",
    "    l1 = tf.nn.max_pool(l1a,ksize=[1,2,2,1],strides=[1,2,2,1],padding='SAME') #l1为：shape=(?,14,14,32)\n",
    "    l1 = tf.nn.dropout(l1,p_keep_conv)\n",
    "    \n",
    "    #第二组卷基层及池化层，最后dropout一些神经元\n",
    "    l2a = tf.nn.relu(tf.nn.conv2d(l1,w2,strides=[1,1,1,1],padding='SAME')) #l2a为：shape=(?,14,14,64)\n",
    "    l2 = tf.nn.max_pool(l2a,ksize=[1,2,2,1],strides=[1,2,2,1],padding='SAME') #l2为：shape=(?,7,7,64)\n",
    "    l2 = tf.nn.dropout(l2,p_keep_conv)\n",
    "    \n",
    "    #第三层卷基层及池化层，最后dropout一些神经元\n",
    "    l3a = tf.nn.relu(tf.nn.conv2d(l2,w3,strides=[1,1,1,1],padding='SAME')) #l3a为：shape=(?,7,7,128)\n",
    "    l3 = tf.nn.max_pool(l3a,ksize=[1,2,2,1],strides=[1,2,2,1],padding='SAME') #l3为：shape=(?,4,4,128)\n",
    "    l3 = tf.reshape(l3,[-1,w4.get_shape().as_list()[0]]) # reshape to (?,2048)\n",
    "    l3 = tf.nn.dropout(l3,p_keep_conv) \n",
    "    \n",
    "    #第四层，全连接层\n",
    "    l4 = tf.nn.relu(tf.matmul(l3,w4))\n",
    "    l4 = tf.nn.dropout(l4,p_keep_hidden)\n",
    "    \n",
    "    #输出层\n",
    "    pyx = tf.matmul(l4,w_0)\n",
    "    return pyx #返回预测值\n",
    "\n",
    "p_keep_conv = tf.placeholder('float')\n",
    "p_keep_hidden = tf.placeholder('float')\n",
    "py_x = model(X,w,w2,w3,w4,w_0,p_keep_conv,p_keep_hidden) #得到预测值\n",
    "\n",
    "#定义损失函数 和优化函数\n",
    "cost = tf.reduce_mean(tf.nn.softmax_cross_entropy_with_logits(logits=py_x,labels=Y))\n",
    "train_op = tf.train.RMSPropOptimizer(0.001,0.9).minimize(cost)\n",
    "predict_op = tf.argmax(py_x,1)"
   ]
  },
  {
   "cell_type": "code",
   "execution_count": null,
   "metadata": {
    "scrolled": true
   },
   "outputs": [
    {
     "name": "stdout",
     "output_type": "stream",
     "text": [
      "0 0.94921875\n",
      "1 0.9921875\n",
      "2 0.984375\n",
      "3 0.9921875\n",
      "4 0.99609375\n",
      "5 0.98046875\n",
      "6 0.9921875\n",
      "7 0.99609375\n",
      "8 0.9921875\n",
      "9 0.99609375\n",
      "10 0.99609375\n",
      "11 0.99609375\n",
      "12 0.984375\n",
      "13 0.9921875\n",
      "14 0.98828125\n",
      "15 0.9921875\n",
      "16 0.99609375\n",
      "17 0.99609375\n",
      "18 1.0\n",
      "19 0.984375\n"
     ]
    }
   ],
   "source": [
    "#3、训练模型及评估模型\n",
    "batch_size = 128 \n",
    "test_size =256\n",
    "init = tf.global_variables_initializer() \n",
    "with tf.Session() as sess:\n",
    "    sess.run(init)\n",
    "    for i in range(1000):\n",
    "        training_batch = zip(range(0,len(trX),batch_size),\n",
    "                             range(batch_size,len(trX)+1,batch_size))\n",
    "        for start,end in training_batch:\n",
    "            sess.run(train_op,feed_dict={X:trX[start:end],Y:trY[start:end],\n",
    "                                        p_keep_conv:0.8,p_keep_hidden:0.5})\n",
    "        \n",
    "        test_indices = np.arange(len(teX))\n",
    "        np.random.shuffle(test_indices)\n",
    "        test_indices =test_indices[0:test_size]\n",
    "        print(i,np.mean(np.argmax(teY[test_indices],axis=1)==\n",
    "                       sess.run(predict_op,feed_dict={X:teX[test_indices],\n",
    "                                                     p_keep_conv:1.0,\n",
    "                                                     p_keep_hidden:1.0})))\n"
   ]
  },
  {
   "cell_type": "code",
   "execution_count": 6,
   "metadata": {},
   "outputs": [
    {
     "data": {
      "text/plain": [
       "(55000, 784)"
      ]
     },
     "execution_count": 6,
     "metadata": {},
     "output_type": "execute_result"
    }
   ],
   "source": [
    "trX.shape"
   ]
  },
  {
   "cell_type": "code",
   "execution_count": null,
   "metadata": {
    "collapsed": true
   },
   "outputs": [],
   "source": [
    "trX = trX.reshape(-1,28,28,1)\n",
    "teX = teX.reshape(-1,28,28,1)"
   ]
  }
 ],
 "metadata": {
  "kernelspec": {
   "display_name": "Python 3",
   "language": "python",
   "name": "python3"
  },
  "language_info": {
   "codemirror_mode": {
    "name": "ipython",
    "version": 3
   },
   "file_extension": ".py",
   "mimetype": "text/x-python",
   "name": "python",
   "nbconvert_exporter": "python",
   "pygments_lexer": "ipython3",
   "version": "3.6.3"
  }
 },
 "nbformat": 4,
 "nbformat_minor": 2
}
